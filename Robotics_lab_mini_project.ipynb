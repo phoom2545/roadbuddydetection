{
  "nbformat": 4,
  "nbformat_minor": 0,
  "metadata": {
    "colab": {
      "provenance": []
    },
    "kernelspec": {
      "name": "python3",
      "display_name": "Python 3"
    },
    "language_info": {
      "name": "python"
    }
  },
  "cells": [
    {
      "cell_type": "markdown",
      "source": [
        "# Model Training"
      ],
      "metadata": {
        "id": "qxYFY9CK_-cs"
      }
    },
    {
      "cell_type": "code",
      "execution_count": null,
      "metadata": {
        "id": "P3fLmwJ0_Rua"
      },
      "outputs": [],
      "source": [
        "\n",
        "\n",
        "!git clone https://github.com/ultralytics/yolov5  # clone\n",
        "%cd yolov5\n",
        "%pip install -qr requirements.txt  # install\n",
        "\n",
        "import torch\n",
        "import utils\n",
        "display = utils.notebook_init()  # checks"
      ]
    },
    {
      "cell_type": "code",
      "source": [
        "# Login to WandB to see the performance of the training\n",
        "\n",
        "%pip install -q wandb\n",
        "import wandb\n",
        "!wandb login\n"
      ],
      "metadata": {
        "id": "010p-eUU_22J"
      },
      "execution_count": null,
      "outputs": []
    },
    {
      "cell_type": "code",
      "source": [
        "\n",
        "# Train the model using the pretrained model yolov5s and the class labeled in securitycamera.yaml for 100 epochs\n",
        "!python train.py --img 640 --epochs 100 --data securitycamera.yaml --weights yolov5s.pt --cache"
      ],
      "metadata": {
        "id": "pyFJHMro_53F"
      },
      "execution_count": null,
      "outputs": []
    },
    {
      "cell_type": "markdown",
      "source": [
        "# Use the model to detect and draw a rectangle from each class"
      ],
      "metadata": {
        "id": "6a7tqYqCABk8"
      }
    },
    {
      "cell_type": "code",
      "source": [
        "import torch\n",
        "import cv2 as cv\n",
        "import numpy as np\n",
        "\n",
        "# the model location is upto the location of the model in each device\n",
        "model = torch.hub.load('ultralytics/yolov5', 'custom', path='D:/Work/University Work/Year 2/Term 2/Robotic LAB 3/Final/Project/Test code/Securitycammodel.pt')\n",
        "\n",
        "# Open Webcam\n",
        "cap = cv.VideoCapture(0)\n",
        "\n",
        "class_labels = ['car', 'human', 'motorbike']\n",
        "\n",
        "while True:\n",
        "    # Read a frame from the webcam\n",
        "    ret, img = cap.read()\n",
        "\n",
        "    # let the model read what they see in the webcam frame by frame and output the result\n",
        "    results = model(img)\n",
        "\n",
        "    # Convert results.pred to a numpy array\n",
        "    pred = np.array([x.tolist() for x in results.pred[0]])\n",
        "\n",
        "    if len(pred) > 0:\n",
        "        # Loop over each detection\n",
        "        for detection in pred:\n",
        "            x1, y1, x2, y2, conf, cls = detection\n",
        "\n",
        "            # Convert class index to int\n",
        "            cls = int(cls)\n",
        "\n",
        "            # Get class label and confidence score from each class\n",
        "            class_label = class_labels[cls]\n",
        "            confidence = f'{conf:.2f}'\n",
        "\n",
        "            # Draw a rectangle box\n",
        "\n",
        "            if class_label == \"car\":\n",
        "                cv.rectangle(img, (int(x1), int(y1)), (int(x2), int(y2)), (255, 0, 0), 2)\n",
        "            \n",
        "            if class_label == \"human\":\n",
        "                cv.rectangle(img, (int(x1), int(y1)), (int(x2), int(y2)), (0, 255, 0), 2)\n",
        "\n",
        "            if class_label == \"motorbike\":\n",
        "                cv.rectangle(img, (int(x1), int(y1)), (int(x2), int(y2)), (0, 0, 255), 2)\n",
        "\n",
        "            # Display class label and confidence on the screen beside the rectangle\n",
        "            label = f'{class_label} {confidence}'\n",
        "            cv.putText(img, label, (int(x1), int(y1) - 10), cv.FONT_HERSHEY_SIMPLEX, 0.9, (255, 0, 255), 2)\n",
        "\n",
        "    # Display the output image\n",
        "    cv.imshow('Output', img)\n",
        "\n",
        "    # Break the loop if 'q' key is pressed\n",
        "    if cv.waitKey(1) & 0xFF == ord('q'):\n",
        "        break\n",
        "\n",
        "# Release the webcam and close the window\n",
        "cap.release()\n",
        "cv.destroyAllWindows()\n"
      ],
      "metadata": {
        "id": "RGDLyd-W_8Cu"
      },
      "execution_count": null,
      "outputs": []
    }
  ]
}